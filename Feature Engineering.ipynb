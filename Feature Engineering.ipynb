{
 "cells": [
  {
   "cell_type": "code",
   "execution_count": 2,
   "id": "612c80f6",
   "metadata": {},
   "outputs": [],
   "source": [
    "import numpy as np\n",
    "import pandas as pd\n",
    "import sklearn.naive_bayes\n",
    "import sklearn.linear_model\n",
    "import sklearn.metrics\n",
    "from sklearn.ensemble import RandomForestClassifier\n",
    "from sklearn.model_selection import StratifiedKFold\n",
    "from sklearn.ensemble import GradientBoostingClassifier\n",
    "from sklearn.linear_model import SGDClassifier\n",
    "from sklearn.preprocessing import StandardScaler\n",
    "from sklearn.pipeline import make_pipeline\n",
    "from xgboost import XGBClassifier\n",
    "\n",
    "import seaborn as sns\n",
    "import matplotlib.pyplot as plt\n",
    "import textstat\n"
   ]
  },
  {
   "cell_type": "code",
   "execution_count": 8,
   "id": "19920ed5",
   "metadata": {
    "scrolled": true
   },
   "outputs": [
    {
     "name": "stdout",
     "output_type": "stream",
     "text": [
      "{0: array([[19,  4,  2],\n",
      "       [ 5, 14,  6],\n",
      "       [ 2,  6, 21]]), 1: array([[4, 1, 0],\n",
      "       [1, 3, 1],\n",
      "       [1, 1, 4]]), 2: array([[3, 1, 1],\n",
      "       [2, 3, 0],\n",
      "       [0, 1, 5]]), 3: array([[4, 1, 0],\n",
      "       [0, 2, 3],\n",
      "       [0, 0, 6]]), 4: array([[5, 0, 0],\n",
      "       [2, 2, 1],\n",
      "       [1, 3, 1]])}\n",
      "[[19  4  2]\n",
      " [ 5 14  6]\n",
      " [ 2  6 21]]\n",
      "['count', 'cont', 'retain', 'shift', 'one_mention', 'multi_mention', 'flesch_reading_ease']\n",
      "0.6835443037974683\n",
      "[[19  4  2]\n",
      " [ 5 14  6]\n",
      " [ 2  6 21]]\n"
     ]
    }
   ],
   "source": [
    "\n",
    "\n",
    "def fit_model(X_train, y_train, X_test, y_test):\n",
    "\n",
    "    # classifier = XGBClassifier(objective='multi:softmax', max_depth=4, learning_rate=.8, n_estimators=100)\n",
    "    # classifier = make_pipeline(StandardScaler(), SGDClassifier(max_iter=1000, tol=1e-3))\n",
    "    # classifier = GradientBoostingClassifier(n_estimators=100, learning_rate=0.8, max_depth=1, random_state=0)\n",
    "    # classifier = RandomForestClassifier(max_depth=5, random_state=0)\n",
    "    # classifier = sklearn.linear_model.LogisticRegression(multi_class='multinomial', random_state=0, max_iter=3000)\n",
    "    classifier = sklearn.naive_bayes.GaussianNB()\n",
    "\n",
    "    classifier.fit(X_train, y_train)\n",
    "\n",
    "    y_pred = classifier.predict(X_test)\n",
    "\n",
    "    matrix = sklearn.metrics.confusion_matrix(y_test, y_pred)\n",
    "\n",
    "    return matrix\n",
    "\n",
    "def get_data(filename):\n",
    "    dataframe = pd.read_excel(filename)\n",
    "    dataframe['level'] = dataframe['level'].replace('low', 0).replace('medium', 1).replace('high', 2)\n",
    "    X = dataframe[features]\n",
    "    y = dataframe['level']\n",
    "    return X,y,dataframe\n",
    "    \n",
    "    \n",
    "def run_models(filename, features, num_folds):\n",
    "    X, y,dataframe = get_data(filename)\n",
    "    folds = StratifiedKFold(num_folds, shuffle=True, random_state=0)\n",
    "\n",
    "    model_predictions = {}\n",
    "\n",
    "    for i, (train_index, test_index) in enumerate(folds.split(X, y)):\n",
    "        predictions = fit_model(X.loc[train_index], y.loc[train_index], X.loc[test_index], y.loc[test_index])\n",
    "        model_predictions[i] = predictions\n",
    "\n",
    "    total_matrix = model_predictions[0]\n",
    "\n",
    "    for i in range(1, num_folds):\n",
    "        total_matrix += model_predictions[i]\n",
    "    print(model_predictions)\n",
    "    print(total_matrix)\n",
    "    accuracy = (total_matrix[0][0] + total_matrix[1][1] + total_matrix[2][2]) / 79\n",
    "    print(features)\n",
    "    print(accuracy)\n",
    "    print(total_matrix)\n",
    "\n",
    "\n",
    "\n",
    "# Full features list: ['count', 'cont', 'retain', 'shift', 'one_mention',\n",
    "#        'multi_mention', 'flesch_reading_ease', 'difficult words', 'dale_chall_readability_score',\n",
    "#        'textstat difficult words', 'arc_length', 'average_height', 'height',\n",
    "#        'num_edus']\n",
    "\n",
    "features = ['count', 'cont', 'retain', 'shift', 'one_mention', 'multi_mention', 'flesch_reading_ease']\n",
    "num_folds = 5\n",
    "filename ='data/TOEFL Annotation_mine.xlsx'\n",
    "\n",
    "run_models(filename, features, num_folds)"
   ]
  },
  {
   "cell_type": "code",
   "execution_count": 24,
   "id": "a839bfd3",
   "metadata": {},
   "outputs": [
    {
     "name": "stdout",
     "output_type": "stream",
     "text": [
      "level                           1.000000\n",
      "count                           0.664785\n",
      "cont                            0.157801\n",
      "retain                          0.186319\n",
      "shift                           0.392407\n",
      "one_mention                     0.568834\n",
      "multi_mention                   0.568787\n",
      "difficult words                 0.753427\n",
      "dale_chall_readability_score    0.363783\n",
      "arc_length                      0.016346\n",
      "Name: level, dtype: float64\n",
      "[0.16345187 0.11689816 0.07040887 0.07244575 0.0890257  0.10620297\n",
      " 0.10619807 0.12773349 0.08651356 0.06112156]\n"
     ]
    }
   ],
   "source": [
    "from scipy.special import softmax\n",
    "\n",
    "dropped_features = [ \"flesch_reading_ease\",\"average_height\",\"height\",\"num_edus\",\"num_rel\",\"prop_rel\"]\n",
    "def feature_engineering(filename):\n",
    "    X, y,dataframe = get_data(filename)\n",
    "    dataframe = dataframe.drop([\"Unnamed: 0\",\"name\", \"flesch_reading_ease\",\"average_height\",\"height\",\"num_edus\",\"num_rel\",\"prop_rel\"],axis=1)\n",
    "    corr = dataframe.corr()\n",
    "    result = softmax(corr[\"level\"])\n",
    "    print(corr[\"level\"])\n",
    "    print(result)\n",
    "\n",
    "feature_engineering(filename)\n"
   ]
  },
  {
   "cell_type": "code",
   "execution_count": null,
   "id": "ac411da0",
   "metadata": {},
   "outputs": [],
   "source": []
  }
 ],
 "metadata": {
  "kernelspec": {
   "display_name": "Python 3 (ipykernel)",
   "language": "python",
   "name": "python3"
  },
  "language_info": {
   "codemirror_mode": {
    "name": "ipython",
    "version": 3
   },
   "file_extension": ".py",
   "mimetype": "text/x-python",
   "name": "python",
   "nbconvert_exporter": "python",
   "pygments_lexer": "ipython3",
   "version": "3.9.13"
  }
 },
 "nbformat": 4,
 "nbformat_minor": 5
}
